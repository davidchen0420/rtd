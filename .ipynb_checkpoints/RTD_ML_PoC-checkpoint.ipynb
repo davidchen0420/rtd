{
 "cells": [
  {
   "cell_type": "code",
   "execution_count": 10,
   "id": "1184d5f5",
   "metadata": {},
   "outputs": [],
   "source": [
    "import librtd\n",
    "import pandas as pd\n",
    "import matplotlib.pyplot as plt\n",
    "import seaborn as sns\n",
    "import numpy as np\n",
    "import glob\n",
    "import tqdm\n",
    "\n",
    "from Bio import SeqIO"
   ]
  },
  {
   "cell_type": "markdown",
   "id": "3b38b444",
   "metadata": {},
   "source": [
    "# Read txt files in and calculate rtd metric"
   ]
  },
  {
   "cell_type": "code",
   "execution_count": 180,
   "id": "edcb1282",
   "metadata": {},
   "outputs": [],
   "source": [
    "def rtd_metric(folder_path, kmer, reverse_complement, pairwise):\n",
    "\n",
    "    files = glob.glob(folder_path + '/*.txt', \n",
    "                       recursive = True)\n",
    "\n",
    "    if reverse_complement is True:\n",
    "        constant = 4\n",
    "        \n",
    "    else:\n",
    "        constant = 1\n",
    "        \n",
    "    df = pd.DataFrame(columns=list(range(constant * 2 * 4 ** kmer)))\n",
    "\n",
    "    for seq_file in files:\n",
    "        fasta_seq = SeqIO.parse(open(seq_file),'fasta')\n",
    "\n",
    "        for fasta in fasta_seq:\n",
    "            name, seq = fasta.id, str(fasta.seq)\n",
    "\n",
    "            df.loc[len(df.index)+1] = librtd.return_time_distribution(seq, kmer, reverse_complement, pairwise).values()\n",
    "\n",
    "    df.columns = librtd.return_time_distribution(seq, kmer, reverse_complement, pairwise).keys()\n",
    "    \n",
    "    return df"
   ]
  },
  {
   "cell_type": "code",
   "execution_count": 182,
   "id": "c0d60a39",
   "metadata": {},
   "outputs": [],
   "source": [
    "Basidiomycota = rtd_metric(folder_path = \"/Users/davidchen/Documents/GitHub/rtd/Fungi/Basidiomycota\", \n",
    "           kmer = 1, \n",
    "           reverse_complement = True, \n",
    "           pairwise = False)"
   ]
  },
  {
   "cell_type": "code",
   "execution_count": 184,
   "id": "7b5b5402",
   "metadata": {},
   "outputs": [],
   "source": [
    "Pezizomycotina = rtd_metric(folder_path = \"/Users/davidchen/Documents/GitHub/rtd/Fungi/Pezizomycotina\", \n",
    "           kmer = 1, \n",
    "           reverse_complement = True, \n",
    "           pairwise = False)"
   ]
  },
  {
   "cell_type": "code",
   "execution_count": 185,
   "id": "64a4c6bf",
   "metadata": {},
   "outputs": [],
   "source": [
    "Saccharomycotina = rtd_metric(folder_path = \"/Users/davidchen/Documents/GitHub/rtd/Fungi/Saccharomycotina\", \n",
    "           kmer = 1, \n",
    "           reverse_complement = True, \n",
    "           pairwise = False)"
   ]
  },
  {
   "cell_type": "code",
   "execution_count": 186,
   "id": "36fadfcc",
   "metadata": {},
   "outputs": [],
   "source": [
    "metrics = pd.concat([Basidiomycota, Pezizomycotina, Saccharomycotina]).reset_index(drop=True)"
   ]
  },
  {
   "cell_type": "code",
   "execution_count": 187,
   "id": "3bf007e2",
   "metadata": {},
   "outputs": [],
   "source": [
    "metrics['Class'] = list(np.repeat(1, len(Basidiomycota))) + list(np.repeat(2, len(Pezizomycotina))) + list(np.repeat(3, len(Saccharomycotina)))"
   ]
  },
  {
   "cell_type": "code",
   "execution_count": 188,
   "id": "9d09c998",
   "metadata": {},
   "outputs": [
    {
     "data": {
      "text/html": [
       "<div>\n",
       "<style scoped>\n",
       "    .dataframe tbody tr th:only-of-type {\n",
       "        vertical-align: middle;\n",
       "    }\n",
       "\n",
       "    .dataframe tbody tr th {\n",
       "        vertical-align: top;\n",
       "    }\n",
       "\n",
       "    .dataframe thead th {\n",
       "        text-align: right;\n",
       "    }\n",
       "</style>\n",
       "<table border=\"1\" class=\"dataframe\">\n",
       "  <thead>\n",
       "    <tr style=\"text-align: right;\">\n",
       "      <th></th>\n",
       "      <th>C_T_mean</th>\n",
       "      <th>A_G_mean</th>\n",
       "      <th>G_A_mean</th>\n",
       "      <th>G_T_mean</th>\n",
       "      <th>T_C_std</th>\n",
       "      <th>T_A_std</th>\n",
       "      <th>G_C_mean</th>\n",
       "      <th>T_T_std</th>\n",
       "      <th>T_C_mean</th>\n",
       "      <th>T_G_mean</th>\n",
       "      <th>...</th>\n",
       "      <th>C_G_std</th>\n",
       "      <th>C_T_std</th>\n",
       "      <th>A_G_std</th>\n",
       "      <th>T_A_mean</th>\n",
       "      <th>A_T_std</th>\n",
       "      <th>T_T_mean</th>\n",
       "      <th>G_T_std</th>\n",
       "      <th>C_C_std</th>\n",
       "      <th>T_G_std</th>\n",
       "      <th>Class</th>\n",
       "    </tr>\n",
       "  </thead>\n",
       "  <tbody>\n",
       "    <tr>\n",
       "      <th>0</th>\n",
       "      <td>2.667014</td>\n",
       "      <td>7.395956</td>\n",
       "      <td>3.018784</td>\n",
       "      <td>3.092291</td>\n",
       "      <td>8.154206</td>\n",
       "      <td>2.706319</td>\n",
       "      <td>7.711695</td>\n",
       "      <td>2.419480</td>\n",
       "      <td>7.839727</td>\n",
       "      <td>8.833411</td>\n",
       "      <td>...</td>\n",
       "      <td>8.564662</td>\n",
       "      <td>2.411365</td>\n",
       "      <td>7.787812</td>\n",
       "      <td>2.980677</td>\n",
       "      <td>2.888087</td>\n",
       "      <td>2.772793</td>\n",
       "      <td>2.713571</td>\n",
       "      <td>7.282014</td>\n",
       "      <td>8.648842</td>\n",
       "      <td>1</td>\n",
       "    </tr>\n",
       "    <tr>\n",
       "      <th>1</th>\n",
       "      <td>2.672944</td>\n",
       "      <td>8.295883</td>\n",
       "      <td>2.880475</td>\n",
       "      <td>2.760710</td>\n",
       "      <td>9.357965</td>\n",
       "      <td>2.101972</td>\n",
       "      <td>8.705148</td>\n",
       "      <td>2.131668</td>\n",
       "      <td>9.280834</td>\n",
       "      <td>8.667279</td>\n",
       "      <td>...</td>\n",
       "      <td>8.127861</td>\n",
       "      <td>2.257580</td>\n",
       "      <td>8.760953</td>\n",
       "      <td>2.592635</td>\n",
       "      <td>2.132844</td>\n",
       "      <td>2.692029</td>\n",
       "      <td>8.533418</td>\n",
       "      <td>2.229776</td>\n",
       "      <td>9.003206</td>\n",
       "      <td>1</td>\n",
       "    </tr>\n",
       "    <tr>\n",
       "      <th>2</th>\n",
       "      <td>3.647819</td>\n",
       "      <td>6.372130</td>\n",
       "      <td>4.085116</td>\n",
       "      <td>4.354663</td>\n",
       "      <td>6.953395</td>\n",
       "      <td>6.627751</td>\n",
       "      <td>5.901769</td>\n",
       "      <td>3.457354</td>\n",
       "      <td>6.894302</td>\n",
       "      <td>7.525039</td>\n",
       "      <td>...</td>\n",
       "      <td>6.614456</td>\n",
       "      <td>4.518717</td>\n",
       "      <td>5.959553</td>\n",
       "      <td>5.102664</td>\n",
       "      <td>6.339892</td>\n",
       "      <td>2.917200</td>\n",
       "      <td>6.202158</td>\n",
       "      <td>5.165603</td>\n",
       "      <td>7.229827</td>\n",
       "      <td>1</td>\n",
       "    </tr>\n",
       "    <tr>\n",
       "      <th>3</th>\n",
       "      <td>2.815146</td>\n",
       "      <td>10.841188</td>\n",
       "      <td>3.282219</td>\n",
       "      <td>3.216762</td>\n",
       "      <td>11.750963</td>\n",
       "      <td>3.105060</td>\n",
       "      <td>8.702794</td>\n",
       "      <td>2.441394</td>\n",
       "      <td>10.009733</td>\n",
       "      <td>10.906664</td>\n",
       "      <td>...</td>\n",
       "      <td>11.896670</td>\n",
       "      <td>2.793968</td>\n",
       "      <td>14.290079</td>\n",
       "      <td>3.082340</td>\n",
       "      <td>2.773327</td>\n",
       "      <td>2.710484</td>\n",
       "      <td>9.303846</td>\n",
       "      <td>2.919061</td>\n",
       "      <td>13.428412</td>\n",
       "      <td>1</td>\n",
       "    </tr>\n",
       "    <tr>\n",
       "      <th>4</th>\n",
       "      <td>2.768844</td>\n",
       "      <td>6.706757</td>\n",
       "      <td>2.864356</td>\n",
       "      <td>2.929001</td>\n",
       "      <td>7.130034</td>\n",
       "      <td>2.384130</td>\n",
       "      <td>6.930061</td>\n",
       "      <td>2.347134</td>\n",
       "      <td>7.069995</td>\n",
       "      <td>7.322306</td>\n",
       "      <td>...</td>\n",
       "      <td>7.324025</td>\n",
       "      <td>2.455407</td>\n",
       "      <td>7.112501</td>\n",
       "      <td>2.855972</td>\n",
       "      <td>2.473037</td>\n",
       "      <td>2.891247</td>\n",
       "      <td>2.465178</td>\n",
       "      <td>6.545671</td>\n",
       "      <td>7.431304</td>\n",
       "      <td>1</td>\n",
       "    </tr>\n",
       "    <tr>\n",
       "      <th>...</th>\n",
       "      <td>...</td>\n",
       "      <td>...</td>\n",
       "      <td>...</td>\n",
       "      <td>...</td>\n",
       "      <td>...</td>\n",
       "      <td>...</td>\n",
       "      <td>...</td>\n",
       "      <td>...</td>\n",
       "      <td>...</td>\n",
       "      <td>...</td>\n",
       "      <td>...</td>\n",
       "      <td>...</td>\n",
       "      <td>...</td>\n",
       "      <td>...</td>\n",
       "      <td>...</td>\n",
       "      <td>...</td>\n",
       "      <td>...</td>\n",
       "      <td>...</td>\n",
       "      <td>...</td>\n",
       "      <td>...</td>\n",
       "      <td>...</td>\n",
       "    </tr>\n",
       "    <tr>\n",
       "      <th>219</th>\n",
       "      <td>2.376514</td>\n",
       "      <td>10.109327</td>\n",
       "      <td>3.010039</td>\n",
       "      <td>2.559262</td>\n",
       "      <td>11.161648</td>\n",
       "      <td>2.201527</td>\n",
       "      <td>8.678652</td>\n",
       "      <td>1.921325</td>\n",
       "      <td>9.765070</td>\n",
       "      <td>10.733810</td>\n",
       "      <td>...</td>\n",
       "      <td>10.740350</td>\n",
       "      <td>1.908549</td>\n",
       "      <td>12.073438</td>\n",
       "      <td>2.081693</td>\n",
       "      <td>2.482343</td>\n",
       "      <td>2.576550</td>\n",
       "      <td>2.045559</td>\n",
       "      <td>9.221897</td>\n",
       "      <td>12.561378</td>\n",
       "      <td>3</td>\n",
       "    </tr>\n",
       "    <tr>\n",
       "      <th>220</th>\n",
       "      <td>3.280577</td>\n",
       "      <td>25.283953</td>\n",
       "      <td>3.251719</td>\n",
       "      <td>3.087318</td>\n",
       "      <td>34.285523</td>\n",
       "      <td>2.055561</td>\n",
       "      <td>15.191108</td>\n",
       "      <td>1.910273</td>\n",
       "      <td>27.243571</td>\n",
       "      <td>25.943800</td>\n",
       "      <td>...</td>\n",
       "      <td>25.811274</td>\n",
       "      <td>3.633235</td>\n",
       "      <td>30.398994</td>\n",
       "      <td>2.119923</td>\n",
       "      <td>1.958907</td>\n",
       "      <td>2.449243</td>\n",
       "      <td>22.069779</td>\n",
       "      <td>3.016197</td>\n",
       "      <td>30.672705</td>\n",
       "      <td>3</td>\n",
       "    </tr>\n",
       "    <tr>\n",
       "      <th>221</th>\n",
       "      <td>5.315314</td>\n",
       "      <td>31.660988</td>\n",
       "      <td>3.925637</td>\n",
       "      <td>4.976961</td>\n",
       "      <td>40.257885</td>\n",
       "      <td>2.962112</td>\n",
       "      <td>14.862153</td>\n",
       "      <td>2.335425</td>\n",
       "      <td>32.565024</td>\n",
       "      <td>32.999370</td>\n",
       "      <td>...</td>\n",
       "      <td>30.620181</td>\n",
       "      <td>7.371293</td>\n",
       "      <td>41.738863</td>\n",
       "      <td>2.296073</td>\n",
       "      <td>2.254822</td>\n",
       "      <td>2.455472</td>\n",
       "      <td>23.885711</td>\n",
       "      <td>6.662167</td>\n",
       "      <td>41.858695</td>\n",
       "      <td>3</td>\n",
       "    </tr>\n",
       "    <tr>\n",
       "      <th>222</th>\n",
       "      <td>2.812267</td>\n",
       "      <td>7.580595</td>\n",
       "      <td>3.017305</td>\n",
       "      <td>2.691789</td>\n",
       "      <td>10.055900</td>\n",
       "      <td>2.063361</td>\n",
       "      <td>9.081232</td>\n",
       "      <td>2.142465</td>\n",
       "      <td>8.921286</td>\n",
       "      <td>8.532322</td>\n",
       "      <td>...</td>\n",
       "      <td>9.594745</td>\n",
       "      <td>2.348371</td>\n",
       "      <td>8.962670</td>\n",
       "      <td>2.193229</td>\n",
       "      <td>2.324771</td>\n",
       "      <td>2.932453</td>\n",
       "      <td>2.222919</td>\n",
       "      <td>8.088200</td>\n",
       "      <td>10.126399</td>\n",
       "      <td>3</td>\n",
       "    </tr>\n",
       "    <tr>\n",
       "      <th>223</th>\n",
       "      <td>2.540663</td>\n",
       "      <td>17.622941</td>\n",
       "      <td>2.632790</td>\n",
       "      <td>2.596883</td>\n",
       "      <td>22.971362</td>\n",
       "      <td>1.637348</td>\n",
       "      <td>12.233440</td>\n",
       "      <td>1.820995</td>\n",
       "      <td>18.976015</td>\n",
       "      <td>17.974313</td>\n",
       "      <td>...</td>\n",
       "      <td>17.480901</td>\n",
       "      <td>2.016359</td>\n",
       "      <td>25.082543</td>\n",
       "      <td>2.093228</td>\n",
       "      <td>1.830904</td>\n",
       "      <td>2.486751</td>\n",
       "      <td>2.065630</td>\n",
       "      <td>17.039403</td>\n",
       "      <td>25.140094</td>\n",
       "      <td>3</td>\n",
       "    </tr>\n",
       "  </tbody>\n",
       "</table>\n",
       "<p>224 rows × 33 columns</p>\n",
       "</div>"
      ],
      "text/plain": [
       "     C_T_mean   A_G_mean  G_A_mean  G_T_mean    T_C_std   T_A_std   G_C_mean  \\\n",
       "0    2.667014   7.395956  3.018784  3.092291   8.154206  2.706319   7.711695   \n",
       "1    2.672944   8.295883  2.880475  2.760710   9.357965  2.101972   8.705148   \n",
       "2    3.647819   6.372130  4.085116  4.354663   6.953395  6.627751   5.901769   \n",
       "3    2.815146  10.841188  3.282219  3.216762  11.750963  3.105060   8.702794   \n",
       "4    2.768844   6.706757  2.864356  2.929001   7.130034  2.384130   6.930061   \n",
       "..        ...        ...       ...       ...        ...       ...        ...   \n",
       "219  2.376514  10.109327  3.010039  2.559262  11.161648  2.201527   8.678652   \n",
       "220  3.280577  25.283953  3.251719  3.087318  34.285523  2.055561  15.191108   \n",
       "221  5.315314  31.660988  3.925637  4.976961  40.257885  2.962112  14.862153   \n",
       "222  2.812267   7.580595  3.017305  2.691789  10.055900  2.063361   9.081232   \n",
       "223  2.540663  17.622941  2.632790  2.596883  22.971362  1.637348  12.233440   \n",
       "\n",
       "      T_T_std   T_C_mean   T_G_mean  ...    C_G_std   C_T_std    A_G_std  \\\n",
       "0    2.419480   7.839727   8.833411  ...   8.564662  2.411365   7.787812   \n",
       "1    2.131668   9.280834   8.667279  ...   8.127861  2.257580   8.760953   \n",
       "2    3.457354   6.894302   7.525039  ...   6.614456  4.518717   5.959553   \n",
       "3    2.441394  10.009733  10.906664  ...  11.896670  2.793968  14.290079   \n",
       "4    2.347134   7.069995   7.322306  ...   7.324025  2.455407   7.112501   \n",
       "..        ...        ...        ...  ...        ...       ...        ...   \n",
       "219  1.921325   9.765070  10.733810  ...  10.740350  1.908549  12.073438   \n",
       "220  1.910273  27.243571  25.943800  ...  25.811274  3.633235  30.398994   \n",
       "221  2.335425  32.565024  32.999370  ...  30.620181  7.371293  41.738863   \n",
       "222  2.142465   8.921286   8.532322  ...   9.594745  2.348371   8.962670   \n",
       "223  1.820995  18.976015  17.974313  ...  17.480901  2.016359  25.082543   \n",
       "\n",
       "     T_A_mean   A_T_std  T_T_mean    G_T_std    C_C_std    T_G_std  Class  \n",
       "0    2.980677  2.888087  2.772793   2.713571   7.282014   8.648842      1  \n",
       "1    2.592635  2.132844  2.692029   8.533418   2.229776   9.003206      1  \n",
       "2    5.102664  6.339892  2.917200   6.202158   5.165603   7.229827      1  \n",
       "3    3.082340  2.773327  2.710484   9.303846   2.919061  13.428412      1  \n",
       "4    2.855972  2.473037  2.891247   2.465178   6.545671   7.431304      1  \n",
       "..        ...       ...       ...        ...        ...        ...    ...  \n",
       "219  2.081693  2.482343  2.576550   2.045559   9.221897  12.561378      3  \n",
       "220  2.119923  1.958907  2.449243  22.069779   3.016197  30.672705      3  \n",
       "221  2.296073  2.254822  2.455472  23.885711   6.662167  41.858695      3  \n",
       "222  2.193229  2.324771  2.932453   2.222919   8.088200  10.126399      3  \n",
       "223  2.093228  1.830904  2.486751   2.065630  17.039403  25.140094      3  \n",
       "\n",
       "[224 rows x 33 columns]"
      ]
     },
     "execution_count": 188,
     "metadata": {},
     "output_type": "execute_result"
    }
   ],
   "source": [
    "metrics"
   ]
  },
  {
   "cell_type": "markdown",
   "id": "ba33e64e",
   "metadata": {},
   "source": [
    "# Machine Learning Proof of Concept"
   ]
  },
  {
   "cell_type": "code",
   "execution_count": 88,
   "id": "ceef86bc",
   "metadata": {},
   "outputs": [],
   "source": [
    "from sklearn.model_selection import cross_validate\n",
    "from sklearn import svm\n",
    "from sklearn.neighbors import KNeighborsClassifier\n",
    "from sklearn.linear_model import SGDClassifier\n",
    "from sklearn import tree"
   ]
  },
  {
   "cell_type": "code",
   "execution_count": 92,
   "id": "b25d9a20",
   "metadata": {},
   "outputs": [],
   "source": [
    "def benchmark(metrics):\n",
    "\n",
    "    scoring = ['accuracy']\n",
    "\n",
    "    svc = svm.SVC(kernel='linear', C=1, random_state=0)\n",
    "    svm_scores = cross_validate(svc, X=metrics.iloc[:, :-1], y=metrics.iloc[:, -1], scoring=scoring, cv=10)\n",
    "    print(\"SVC: \" + str(svm_scores['test_accuracy'].mean()))\n",
    "\n",
    "    knn = KNeighborsClassifier(n_neighbors=5)\n",
    "    knn_scores = cross_validate(knn, X=metrics.iloc[:, :-1], y=metrics.iloc[:, -1], scoring=scoring, cv=10)\n",
    "    print(\"KNN: \" + str(knn_scores['test_accuracy'].mean()))\n",
    "\n",
    "    sgd = SGDClassifier(loss=\"hinge\", penalty=\"l2\", max_iter=100)\n",
    "    sgd_scores = cross_validate(sgd, X=metrics.iloc[:, :-1], y=metrics.iloc[:, -1], scoring=scoring, cv=10)\n",
    "    print(\"SGD: \" + str(sgd_scores['test_accuracy'].mean()))\n",
    "\n",
    "    dtree = tree.DecisionTreeClassifier()\n",
    "    dtree_scores = cross_validate(dtree, X=metrics.iloc[:, :-1], y=metrics.iloc[:, -1], scoring=scoring, cv=10)\n",
    "    print(\"Decision Tree: \" + str(sgd_scores['test_accuracy'].mean()))\n"
   ]
  },
  {
   "cell_type": "markdown",
   "id": "ce915fd8",
   "metadata": {},
   "source": [
    "# K=1, RC=False, Pairwise=False"
   ]
  },
  {
   "cell_type": "code",
   "execution_count": 130,
   "id": "5a4c75e3",
   "metadata": {},
   "outputs": [
    {
     "name": "stdout",
     "output_type": "stream",
     "text": [
      "SVC: 0.8436758893280633\n",
      "KNN: 0.8128458498023715\n",
      "SGD: 0.7286561264822135\n",
      "Decision Tree: 0.7286561264822135\n"
     ]
    }
   ],
   "source": [
    "benchmark(metrics)"
   ]
  },
  {
   "cell_type": "markdown",
   "id": "70c43ded",
   "metadata": {},
   "source": [
    "# K=2, RC=False, Pairwise=False"
   ]
  },
  {
   "cell_type": "code",
   "execution_count": 123,
   "id": "4005c07c",
   "metadata": {},
   "outputs": [
    {
     "name": "stdout",
     "output_type": "stream",
     "text": [
      "SVC: 0.884387351778656\n",
      "KNN: 0.7772727272727272\n",
      "SGD: 0.716600790513834\n",
      "Decision Tree: 0.716600790513834\n"
     ]
    }
   ],
   "source": [
    "benchmark(metrics)"
   ]
  },
  {
   "cell_type": "markdown",
   "id": "a3fe8823",
   "metadata": {},
   "source": [
    "# K=3, RC=False, Pairwise=False"
   ]
  },
  {
   "cell_type": "code",
   "execution_count": 137,
   "id": "88619e06",
   "metadata": {},
   "outputs": [
    {
     "name": "stdout",
     "output_type": "stream",
     "text": [
      "SVC: 0.9021739130434783\n",
      "KNN: 0.7810276679841898\n",
      "SGD: 0.7824110671936759\n",
      "Decision Tree: 0.7824110671936759\n"
     ]
    }
   ],
   "source": [
    "benchmark(metrics)"
   ]
  },
  {
   "cell_type": "markdown",
   "id": "a3e7c7d4",
   "metadata": {},
   "source": [
    "# K=2, RC=False, Pairwise=True"
   ]
  },
  {
   "cell_type": "code",
   "execution_count": 166,
   "id": "15143888",
   "metadata": {},
   "outputs": [
    {
     "name": "stdout",
     "output_type": "stream",
     "text": [
      "SVC: 0.807905138339921\n",
      "KNN: 0.7770750988142292\n",
      "SGD: 0.7723320158102768\n",
      "Decision Tree: 0.7723320158102768\n"
     ]
    }
   ],
   "source": [
    "benchmark(metrics)"
   ]
  },
  {
   "cell_type": "markdown",
   "id": "542068c0",
   "metadata": {},
   "source": [
    "# K=1, RC=True, Pairwise=False"
   ]
  },
  {
   "cell_type": "code",
   "execution_count": 189,
   "id": "1d7befc6",
   "metadata": {},
   "outputs": [
    {
     "name": "stdout",
     "output_type": "stream",
     "text": [
      "SVC: 0.8395256916996047\n",
      "KNN: 0.7907114624505929\n",
      "SGD: 0.7549407114624506\n",
      "Decision Tree: 0.7549407114624506\n"
     ]
    }
   ],
   "source": [
    "benchmark(metrics)"
   ]
  },
  {
   "cell_type": "code",
   "execution_count": null,
   "id": "efea373a",
   "metadata": {},
   "outputs": [],
   "source": []
  }
 ],
 "metadata": {
  "kernelspec": {
   "display_name": "Python 3",
   "language": "python",
   "name": "python3"
  },
  "language_info": {
   "codemirror_mode": {
    "name": "ipython",
    "version": 3
   },
   "file_extension": ".py",
   "mimetype": "text/x-python",
   "name": "python",
   "nbconvert_exporter": "python",
   "pygments_lexer": "ipython3",
   "version": "3.8.3"
  }
 },
 "nbformat": 4,
 "nbformat_minor": 5
}
